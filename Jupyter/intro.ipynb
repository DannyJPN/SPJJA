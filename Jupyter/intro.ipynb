{
 "cells": [
  {
   "cell_type": "markdown",
   "metadata": {},
   "source": [
    "### Testovací úkol (0 bodů)"
   ]
  },
  {
   "cell_type": "code",
   "execution_count": 1,
   "metadata": {},
   "outputs": [],
   "source": [
    "\"\"\"\n",
    "Vraťte True, pokud je zadaný řetězec palindrom (čte se stejně zepředu i pozpátku).\n",
    "\n",
    "Příklad:\n",
    "je_palindrom('a') # True\n",
    "je_palindrom('aaa') # True\n",
    "je_palindrom('aba') # True\n",
    "je_palindrom('abc') # False\n",
    "\"\"\"\n",
    "def je_palindrom(retezec):\n",
    "       \n",
    "    \"\"\"\n",
    "    # pomoci techto prikazu muzete nastavit breakpoint a krokovat kod:\n",
    "    import pdb\n",
    "    pdb.set_trace()\n",
    "    \"\"\"\n",
    "    if len(retezec) < 2:\n",
    "        \n",
    "        return True\n",
    "    \n",
    "    for index in range(int(len(retezec)/2)):\n",
    "        #print(retezec[index] + \"[\" + str(index)+\"] = \" + retezec[len(retezec)-1-index]+\"[\"+ str(index)+ \"]\"+ \" from \" +retezec)\n",
    "        if retezec[index] is not retezec[len(retezec)-1-index]:\n",
    "            \n",
    "            return False\n",
    "    \n",
    "    return True"
   ]
  },
  {
   "cell_type": "code",
   "execution_count": 2,
   "metadata": {},
   "outputs": [],
   "source": [
    "#"
   ]
  },
  {
   "cell_type": "code",
   "execution_count": 4,
   "metadata": {},
   "outputs": [],
   "source": [
    "assert je_palindrom('')\n",
    "assert je_palindrom('a')\n",
    "assert je_palindrom('aa')\n",
    "assert je_palindrom('aaa')\n",
    "assert je_palindrom('aba')\n",
    "assert not je_palindrom('abc')\n",
    "assert not je_palindrom('abcd')\n",
    "assert not je_palindrom('palindrom')"
   ]
  }
 ],
 "metadata": {
  "celltoolbar": "Create Assignment",
  "kernelspec": {
   "display_name": "Python 3",
   "language": "python",
   "name": "python3"
  },
  "language_info": {
   "codemirror_mode": {
    "name": "ipython",
    "version": 3
   },
   "file_extension": ".py",
   "mimetype": "text/x-python",
   "name": "python",
   "nbconvert_exporter": "python",
   "pygments_lexer": "ipython3",
   "version": "3.7.1"
  }
 },
 "nbformat": 4,
 "nbformat_minor": 2
}
